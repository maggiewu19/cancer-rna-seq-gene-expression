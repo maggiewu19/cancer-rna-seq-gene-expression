{
 "cells": [
  {
   "cell_type": "code",
   "execution_count": 2,
   "metadata": {},
   "outputs": [],
   "source": [
    "import pandas as pd \n",
    "import numpy as np\n",
    "from scipy.stats import pearsonr"
   ]
  },
  {
   "cell_type": "markdown",
   "metadata": {},
   "source": [
    "Data\n",
    "\n",
    "https://www.synapse.org/#!Synapse:syn2812961 \n",
    "\n",
    "https://www.kaggle.com/murats/gene-expression-cancer-rnaseq?fbclid=IwAR3Mj1xpvD_sBBwn6ivsPf04pvWIm7n3QCKwSdb_bmxhFL2iEXvCGIParIs"
   ]
  },
  {
   "cell_type": "code",
   "execution_count": 3,
   "metadata": {},
   "outputs": [],
   "source": [
    "LGG = pd.read_csv(\"unc.edu_LGG_IlluminaHiSeq_RNASeqV2.geneExp.tsv\", sep='\\t')\n",
    "LUCS = pd.read_csv(\"unc.edu_LUSC_IlluminaHiSeq_RNASeqV2.geneExp.tsv\", sep='\\t')\n",
    "PRAD = pd.read_csv(\"unc.edu_PRAD_IlluminaHiSeq_RNASeqV2.geneExp.tsv\", sep = '\\t')"
   ]
  },
  {
   "cell_type": "markdown",
   "metadata": {},
   "source": [
    "Rows: Genes \\\n",
    "Columns: Patients"
   ]
  },
  {
   "cell_type": "code",
   "execution_count": 4,
   "metadata": {},
   "outputs": [
    {
     "data": {
      "text/html": [
       "<div>\n",
       "<style scoped>\n",
       "    .dataframe tbody tr th:only-of-type {\n",
       "        vertical-align: middle;\n",
       "    }\n",
       "\n",
       "    .dataframe tbody tr th {\n",
       "        vertical-align: top;\n",
       "    }\n",
       "\n",
       "    .dataframe thead th {\n",
       "        text-align: right;\n",
       "    }\n",
       "</style>\n",
       "<table border=\"1\" class=\"dataframe\">\n",
       "  <thead>\n",
       "    <tr style=\"text-align: right;\">\n",
       "      <th></th>\n",
       "      <th>gene_id</th>\n",
       "      <th>TCGA-CS-4938-01B-11R-1896-07</th>\n",
       "      <th>TCGA-CS-4941-01A-01R-1470-07</th>\n",
       "      <th>TCGA-CS-4942-01A-01R-1470-07</th>\n",
       "      <th>TCGA-CS-4943-01A-01R-1470-07</th>\n",
       "      <th>TCGA-CS-4944-01A-01R-1470-07</th>\n",
       "      <th>TCGA-CS-5390-01A-02R-1470-07</th>\n",
       "      <th>TCGA-CS-5393-01A-01R-1470-07</th>\n",
       "      <th>TCGA-CS-5394-01A-01R-1470-07</th>\n",
       "      <th>TCGA-CS-5395-01A-01R-1470-07</th>\n",
       "      <th>...</th>\n",
       "      <th>TCGA-VW-A8FI-01A-11R-A36H-07</th>\n",
       "      <th>TCGA-W9-A837-01A-11R-A36H-07</th>\n",
       "      <th>TCGA-WH-A86K-01A-11R-A36H-07</th>\n",
       "      <th>TCGA-WY-A858-01A-11R-A36H-07</th>\n",
       "      <th>TCGA-WY-A859-01A-12R-A36H-07</th>\n",
       "      <th>TCGA-WY-A85A-01A-21R-A36H-07</th>\n",
       "      <th>TCGA-WY-A85B-01A-11R-A36H-07</th>\n",
       "      <th>TCGA-WY-A85C-01A-11R-A36H-07</th>\n",
       "      <th>TCGA-WY-A85D-01A-11R-A36H-07</th>\n",
       "      <th>TCGA-WY-A85E-01A-11R-A36H-07</th>\n",
       "    </tr>\n",
       "  </thead>\n",
       "  <tbody>\n",
       "    <tr>\n",
       "      <td>0</td>\n",
       "      <td>?|100130426</td>\n",
       "      <td>0.0000</td>\n",
       "      <td>0.0000</td>\n",
       "      <td>0.0000</td>\n",
       "      <td>0.0000</td>\n",
       "      <td>0.000</td>\n",
       "      <td>0.0000</td>\n",
       "      <td>0.0000</td>\n",
       "      <td>0.0000</td>\n",
       "      <td>0.0000</td>\n",
       "      <td>...</td>\n",
       "      <td>0.0000</td>\n",
       "      <td>0.0000</td>\n",
       "      <td>0.0000</td>\n",
       "      <td>0.0000</td>\n",
       "      <td>0.0000</td>\n",
       "      <td>0.0000</td>\n",
       "      <td>0.0000</td>\n",
       "      <td>0.0000</td>\n",
       "      <td>0.0000</td>\n",
       "      <td>0.0000</td>\n",
       "    </tr>\n",
       "    <tr>\n",
       "      <td>1</td>\n",
       "      <td>?|100133144</td>\n",
       "      <td>8.7141</td>\n",
       "      <td>36.4493</td>\n",
       "      <td>11.8131</td>\n",
       "      <td>8.6116</td>\n",
       "      <td>0.000</td>\n",
       "      <td>5.3382</td>\n",
       "      <td>3.7845</td>\n",
       "      <td>8.3071</td>\n",
       "      <td>2.7732</td>\n",
       "      <td>...</td>\n",
       "      <td>19.1299</td>\n",
       "      <td>12.5770</td>\n",
       "      <td>10.9796</td>\n",
       "      <td>7.8225</td>\n",
       "      <td>3.3371</td>\n",
       "      <td>5.4526</td>\n",
       "      <td>8.2616</td>\n",
       "      <td>11.5121</td>\n",
       "      <td>5.3895</td>\n",
       "      <td>9.9433</td>\n",
       "    </tr>\n",
       "    <tr>\n",
       "      <td>2</td>\n",
       "      <td>?|100134869</td>\n",
       "      <td>22.7523</td>\n",
       "      <td>21.1767</td>\n",
       "      <td>11.0242</td>\n",
       "      <td>5.0835</td>\n",
       "      <td>30.261</td>\n",
       "      <td>27.8886</td>\n",
       "      <td>8.7230</td>\n",
       "      <td>15.4466</td>\n",
       "      <td>12.7776</td>\n",
       "      <td>...</td>\n",
       "      <td>21.9905</td>\n",
       "      <td>27.0125</td>\n",
       "      <td>14.2608</td>\n",
       "      <td>16.6975</td>\n",
       "      <td>10.2310</td>\n",
       "      <td>16.1890</td>\n",
       "      <td>19.7074</td>\n",
       "      <td>18.7291</td>\n",
       "      <td>8.9103</td>\n",
       "      <td>7.4480</td>\n",
       "    </tr>\n",
       "    <tr>\n",
       "      <td>3</td>\n",
       "      <td>?|10357</td>\n",
       "      <td>268.5760</td>\n",
       "      <td>156.6870</td>\n",
       "      <td>185.1380</td>\n",
       "      <td>269.8360</td>\n",
       "      <td>216.341</td>\n",
       "      <td>159.7590</td>\n",
       "      <td>198.1880</td>\n",
       "      <td>208.5410</td>\n",
       "      <td>255.2880</td>\n",
       "      <td>...</td>\n",
       "      <td>127.7470</td>\n",
       "      <td>106.8290</td>\n",
       "      <td>205.5170</td>\n",
       "      <td>184.4080</td>\n",
       "      <td>125.5470</td>\n",
       "      <td>124.9190</td>\n",
       "      <td>133.7390</td>\n",
       "      <td>120.9240</td>\n",
       "      <td>107.2540</td>\n",
       "      <td>143.0060</td>\n",
       "    </tr>\n",
       "    <tr>\n",
       "      <td>4</td>\n",
       "      <td>?|10431</td>\n",
       "      <td>845.8150</td>\n",
       "      <td>390.2690</td>\n",
       "      <td>621.4530</td>\n",
       "      <td>835.7290</td>\n",
       "      <td>812.508</td>\n",
       "      <td>576.9050</td>\n",
       "      <td>551.9470</td>\n",
       "      <td>607.8960</td>\n",
       "      <td>386.1780</td>\n",
       "      <td>...</td>\n",
       "      <td>564.3620</td>\n",
       "      <td>603.3720</td>\n",
       "      <td>570.9130</td>\n",
       "      <td>760.7160</td>\n",
       "      <td>875.1410</td>\n",
       "      <td>658.2210</td>\n",
       "      <td>662.6510</td>\n",
       "      <td>524.7240</td>\n",
       "      <td>705.1280</td>\n",
       "      <td>748.5820</td>\n",
       "    </tr>\n",
       "  </tbody>\n",
       "</table>\n",
       "<p>5 rows × 535 columns</p>\n",
       "</div>"
      ],
      "text/plain": [
       "       gene_id  TCGA-CS-4938-01B-11R-1896-07  TCGA-CS-4941-01A-01R-1470-07  \\\n",
       "0  ?|100130426                        0.0000                        0.0000   \n",
       "1  ?|100133144                        8.7141                       36.4493   \n",
       "2  ?|100134869                       22.7523                       21.1767   \n",
       "3      ?|10357                      268.5760                      156.6870   \n",
       "4      ?|10431                      845.8150                      390.2690   \n",
       "\n",
       "   TCGA-CS-4942-01A-01R-1470-07  TCGA-CS-4943-01A-01R-1470-07  \\\n",
       "0                        0.0000                        0.0000   \n",
       "1                       11.8131                        8.6116   \n",
       "2                       11.0242                        5.0835   \n",
       "3                      185.1380                      269.8360   \n",
       "4                      621.4530                      835.7290   \n",
       "\n",
       "   TCGA-CS-4944-01A-01R-1470-07  TCGA-CS-5390-01A-02R-1470-07  \\\n",
       "0                         0.000                        0.0000   \n",
       "1                         0.000                        5.3382   \n",
       "2                        30.261                       27.8886   \n",
       "3                       216.341                      159.7590   \n",
       "4                       812.508                      576.9050   \n",
       "\n",
       "   TCGA-CS-5393-01A-01R-1470-07  TCGA-CS-5394-01A-01R-1470-07  \\\n",
       "0                        0.0000                        0.0000   \n",
       "1                        3.7845                        8.3071   \n",
       "2                        8.7230                       15.4466   \n",
       "3                      198.1880                      208.5410   \n",
       "4                      551.9470                      607.8960   \n",
       "\n",
       "   TCGA-CS-5395-01A-01R-1470-07  ...  TCGA-VW-A8FI-01A-11R-A36H-07  \\\n",
       "0                        0.0000  ...                        0.0000   \n",
       "1                        2.7732  ...                       19.1299   \n",
       "2                       12.7776  ...                       21.9905   \n",
       "3                      255.2880  ...                      127.7470   \n",
       "4                      386.1780  ...                      564.3620   \n",
       "\n",
       "   TCGA-W9-A837-01A-11R-A36H-07  TCGA-WH-A86K-01A-11R-A36H-07  \\\n",
       "0                        0.0000                        0.0000   \n",
       "1                       12.5770                       10.9796   \n",
       "2                       27.0125                       14.2608   \n",
       "3                      106.8290                      205.5170   \n",
       "4                      603.3720                      570.9130   \n",
       "\n",
       "   TCGA-WY-A858-01A-11R-A36H-07  TCGA-WY-A859-01A-12R-A36H-07  \\\n",
       "0                        0.0000                        0.0000   \n",
       "1                        7.8225                        3.3371   \n",
       "2                       16.6975                       10.2310   \n",
       "3                      184.4080                      125.5470   \n",
       "4                      760.7160                      875.1410   \n",
       "\n",
       "   TCGA-WY-A85A-01A-21R-A36H-07  TCGA-WY-A85B-01A-11R-A36H-07  \\\n",
       "0                        0.0000                        0.0000   \n",
       "1                        5.4526                        8.2616   \n",
       "2                       16.1890                       19.7074   \n",
       "3                      124.9190                      133.7390   \n",
       "4                      658.2210                      662.6510   \n",
       "\n",
       "   TCGA-WY-A85C-01A-11R-A36H-07  TCGA-WY-A85D-01A-11R-A36H-07  \\\n",
       "0                        0.0000                        0.0000   \n",
       "1                       11.5121                        5.3895   \n",
       "2                       18.7291                        8.9103   \n",
       "3                      120.9240                      107.2540   \n",
       "4                      524.7240                      705.1280   \n",
       "\n",
       "   TCGA-WY-A85E-01A-11R-A36H-07  \n",
       "0                        0.0000  \n",
       "1                        9.9433  \n",
       "2                        7.4480  \n",
       "3                      143.0060  \n",
       "4                      748.5820  \n",
       "\n",
       "[5 rows x 535 columns]"
      ]
     },
     "execution_count": 4,
     "metadata": {},
     "output_type": "execute_result"
    }
   ],
   "source": [
    "LGG.head(5)"
   ]
  },
  {
   "cell_type": "code",
   "execution_count": 5,
   "metadata": {},
   "outputs": [
    {
     "data": {
      "text/plain": [
       "(20531, 535)"
      ]
     },
     "execution_count": 5,
     "metadata": {},
     "output_type": "execute_result"
    }
   ],
   "source": [
    "LGG.shape"
   ]
  },
  {
   "cell_type": "markdown",
   "metadata": {},
   "source": [
    "How to build a coexpression matrix?\n",
    "\n",
    "https://link.springer.com/protocol/10.1007%2F978-1-4939-7747-5_21"
   ]
  },
  {
   "cell_type": "code",
   "execution_count": 6,
   "metadata": {},
   "outputs": [],
   "source": [
    "# Pearson Correlation\n",
    "def calculate_pearson(data, length):\n",
    "    '''\n",
    "    Input: Data sequence\n",
    "    Output: Person matrix\n",
    "    '''\n",
    "    gene_ids = data['gene_id'][:length]\n",
    "    n = len(gene_ids)\n",
    "    pmatrix = np.empty((n, n))\n",
    "    \n",
    "    for i in range(n):\n",
    "        for j in range(n):\n",
    "            gene1 = list(data.iloc[i, :].values)[1:][:length]\n",
    "            gene2 = list(data.iloc[j, :].values)[1:][:length]\n",
    "            pmatrix[i][j] = pearsonr(gene1, gene2)[0]\n",
    "    return pmatrix"
   ]
  },
  {
   "cell_type": "code",
   "execution_count": null,
   "metadata": {},
   "outputs": [],
   "source": []
  },
  {
   "cell_type": "code",
   "execution_count": 7,
   "metadata": {},
   "outputs": [
    {
     "name": "stderr",
     "output_type": "stream",
     "text": [
      "/Users/jinglin/miniconda3/lib/python3.7/site-packages/scipy/stats/stats.py:3399: PearsonRConstantInputWarning: An input array is constant; the correlation coefficent is not defined.\n",
      "  warnings.warn(PearsonRConstantInputWarning())\n"
     ]
    }
   ],
   "source": [
    "LGG_matrix = calculate_pearson(LGG, 100)"
   ]
  },
  {
   "cell_type": "code",
   "execution_count": 8,
   "metadata": {},
   "outputs": [
    {
     "data": {
      "text/plain": [
       "(100, 100)"
      ]
     },
     "execution_count": 8,
     "metadata": {},
     "output_type": "execute_result"
    }
   ],
   "source": [
    "LGG_matrix.shape"
   ]
  },
  {
   "cell_type": "code",
   "execution_count": 9,
   "metadata": {},
   "outputs": [],
   "source": [
    "def write_to_file(filename, data):\n",
    "    outfile = open(filename, 'wb')\n",
    "    pickle.dump(data, outfile)\n",
    "    outfile.close()\n",
    "\n",
    "\n",
    "def load_pkl(filename):\n",
    "    file = open(filename, 'rb')\n",
    "    object_file = pickle.load(file)\n",
    "    file.close()\n",
    "    return object_file"
   ]
  },
  {
   "cell_type": "code",
   "execution_count": null,
   "metadata": {},
   "outputs": [],
   "source": []
  }
 ],
 "metadata": {
  "kernelspec": {
   "display_name": "Python 3",
   "language": "python",
   "name": "python3"
  },
  "language_info": {
   "codemirror_mode": {
    "name": "ipython",
    "version": 3
   },
   "file_extension": ".py",
   "mimetype": "text/x-python",
   "name": "python",
   "nbconvert_exporter": "python",
   "pygments_lexer": "ipython3",
   "version": "3.7.4"
  }
 },
 "nbformat": 4,
 "nbformat_minor": 2
}
