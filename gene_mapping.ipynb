{
 "cells": [
  {
   "cell_type": "code",
   "execution_count": 1,
   "metadata": {},
   "outputs": [],
   "source": [
    "import pandas as pd \n",
    "import numpy as np\n",
    "from scipy.stats import pearsonr"
   ]
  },
  {
   "cell_type": "code",
   "execution_count": 6,
   "metadata": {},
   "outputs": [],
   "source": [
    "LGG = pd.read_csv(\"unc.edu_LGG_IlluminaHiSeq_RNASeqV2.geneExp.tsv\", sep=\"\\t\")\n",
    "old_new_mapping = pd.read_csv(\"gene_history.gz\", sep=\"\\t\")"
   ]
  },
  {
   "cell_type": "code",
   "execution_count": 8,
   "metadata": {},
   "outputs": [
    {
     "data": {
      "text/html": [
       "<div>\n",
       "<style scoped>\n",
       "    .dataframe tbody tr th:only-of-type {\n",
       "        vertical-align: middle;\n",
       "    }\n",
       "\n",
       "    .dataframe tbody tr th {\n",
       "        vertical-align: top;\n",
       "    }\n",
       "\n",
       "    .dataframe thead th {\n",
       "        text-align: right;\n",
       "    }\n",
       "</style>\n",
       "<table border=\"1\" class=\"dataframe\">\n",
       "  <thead>\n",
       "    <tr style=\"text-align: right;\">\n",
       "      <th></th>\n",
       "      <th>#tax_id</th>\n",
       "      <th>GeneID</th>\n",
       "      <th>Discontinued_GeneID</th>\n",
       "      <th>Discontinued_Symbol</th>\n",
       "      <th>Discontinue_Date</th>\n",
       "    </tr>\n",
       "  </thead>\n",
       "  <tbody>\n",
       "    <tr>\n",
       "      <th>0</th>\n",
       "      <td>9</td>\n",
       "      <td>-</td>\n",
       "      <td>1246494</td>\n",
       "      <td>repA1</td>\n",
       "      <td>20031113</td>\n",
       "    </tr>\n",
       "    <tr>\n",
       "      <th>1</th>\n",
       "      <td>9</td>\n",
       "      <td>-</td>\n",
       "      <td>1246495</td>\n",
       "      <td>repA2</td>\n",
       "      <td>20031113</td>\n",
       "    </tr>\n",
       "    <tr>\n",
       "      <th>2</th>\n",
       "      <td>9</td>\n",
       "      <td>-</td>\n",
       "      <td>1246496</td>\n",
       "      <td>leuA</td>\n",
       "      <td>20031113</td>\n",
       "    </tr>\n",
       "    <tr>\n",
       "      <th>3</th>\n",
       "      <td>9</td>\n",
       "      <td>-</td>\n",
       "      <td>1246497</td>\n",
       "      <td>leuB</td>\n",
       "      <td>20031113</td>\n",
       "    </tr>\n",
       "    <tr>\n",
       "      <th>4</th>\n",
       "      <td>9</td>\n",
       "      <td>-</td>\n",
       "      <td>1246498</td>\n",
       "      <td>leuC</td>\n",
       "      <td>20031113</td>\n",
       "    </tr>\n",
       "  </tbody>\n",
       "</table>\n",
       "</div>"
      ],
      "text/plain": [
       "   #tax_id GeneID  Discontinued_GeneID Discontinued_Symbol  Discontinue_Date\n",
       "0        9      -              1246494               repA1          20031113\n",
       "1        9      -              1246495               repA2          20031113\n",
       "2        9      -              1246496                leuA          20031113\n",
       "3        9      -              1246497                leuB          20031113\n",
       "4        9      -              1246498                leuC          20031113"
      ]
     },
     "execution_count": 8,
     "metadata": {},
     "output_type": "execute_result"
    }
   ],
   "source": [
    "old_new_mapping.head()"
   ]
  },
  {
   "cell_type": "code",
   "execution_count": 16,
   "metadata": {
    "scrolled": false
   },
   "outputs": [],
   "source": [
    "gene_ids = LGG['gene_id']\n",
    "for gene_id in gene_ids:\n",
    "    gene_name = gene_id[:gene_id.index('|')]"
   ]
  },
  {
   "cell_type": "code",
   "execution_count": null,
   "metadata": {},
   "outputs": [],
   "source": []
  }
 ],
 "metadata": {
  "kernelspec": {
   "display_name": "Python 3",
   "language": "python",
   "name": "python3"
  },
  "language_info": {
   "codemirror_mode": {
    "name": "ipython",
    "version": 3
   },
   "file_extension": ".py",
   "mimetype": "text/x-python",
   "name": "python",
   "nbconvert_exporter": "python",
   "pygments_lexer": "ipython3",
   "version": "3.7.3"
  }
 },
 "nbformat": 4,
 "nbformat_minor": 2
}
