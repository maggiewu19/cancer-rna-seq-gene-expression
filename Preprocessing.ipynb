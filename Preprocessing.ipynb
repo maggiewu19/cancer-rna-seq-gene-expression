{
 "cells": [
  {
   "cell_type": "code",
   "execution_count": 1,
   "metadata": {},
   "outputs": [],
   "source": [
    "import pandas as pd \n",
    "import numpy as np "
   ]
  },
  {
   "cell_type": "code",
   "execution_count": 2,
   "metadata": {},
   "outputs": [],
   "source": [
    "LIHC = pd.read_csv('raw_data/lihc-rsem-fpkm-tcga-t.txt.gz', compression='gzip', sep='\\t')\n",
    "BRCA = pd.read_csv('raw_data/brca-rsem-fpkm-tcga-t.txt.gz', compression='gzip', sep='\\t')\n",
    "STAD = pd.read_csv('raw_data/stad-rsem-fpkm-tcga-t.txt.gz', compression='gzip', sep='\\t')\n",
    "LIHC_Normal = pd.read_csv('raw_data/liver-rsem-fpkm-gtex.txt.gz', compression='gzip', sep='\\t')\n",
    "BRCA_Normal = pd.read_csv('raw_data/breast-rsem-fpkm-gtex.txt.gz', compression='gzip', sep='\\t')\n",
    "STAD_Normal = pd.read_csv('raw_data/stomach-rsem-fpkm-gtex.txt.gz', compression='gzip', sep='\\t')"
   ]
  },
  {
   "cell_type": "code",
   "execution_count": 3,
   "metadata": {},
   "outputs": [],
   "source": [
    "LIHC = LIHC.drop(['Entrez_Gene_Id'], axis=1)\n",
    "BRCA = BRCA.drop(['Entrez_Gene_Id'], axis=1)\n",
    "STAD = STAD.drop(['Entrez_Gene_Id'], axis=1)\n",
    "LIHC_Normal = LIHC_Normal.drop(['Entrez_Gene_Id'], axis=1)\n",
    "BRCA_Normal = BRCA_Normal.drop(['Entrez_Gene_Id'], axis=1)\n",
    "STAD_Normal = STAD_Normal.drop(['Entrez_Gene_Id'], axis=1)"
   ]
  },
  {
   "cell_type": "code",
   "execution_count": 4,
   "metadata": {},
   "outputs": [],
   "source": [
    "LIHC.rename(columns={'Hugo_Symbol':'Gene_ID'}, inplace=True)\n",
    "BRCA.rename(columns={'Hugo_Symbol':'Gene_ID'}, inplace=True)\n",
    "STAD.rename(columns={'Hugo_Symbol':'Gene_ID'}, inplace=True)\n",
    "LIHC_Normal.rename(columns={'Hugo_Symbol':'Gene_ID'}, inplace=True)\n",
    "BRCA_Normal.rename(columns={'Hugo_Symbol':'Gene_ID'}, inplace=True)\n",
    "STAD_Normal.rename(columns={'Hugo_Symbol':'Gene_ID'}, inplace=True)"
   ]
  },
  {
   "cell_type": "code",
   "execution_count": 5,
   "metadata": {},
   "outputs": [],
   "source": [
    "TCGA_genes = set(STAD['Gene_ID']).intersection(set(LIHC['Gene_ID']).intersection(set(BRCA['Gene_ID'])))"
   ]
  },
  {
   "cell_type": "code",
   "execution_count": 6,
   "metadata": {},
   "outputs": [],
   "source": [
    "Normal_genes = set(STAD_Normal['Gene_ID']).intersection(set(BRCA_Normal['Gene_ID']).intersection(set(LIHC_Normal['Gene_ID'])))"
   ]
  },
  {
   "cell_type": "code",
   "execution_count": 7,
   "metadata": {},
   "outputs": [],
   "source": [
    "All_genes = TCGA_genes.intersection(Normal_genes)"
   ]
  },
  {
   "cell_type": "code",
   "execution_count": 8,
   "metadata": {},
   "outputs": [],
   "source": [
    "LIHC_patients = np.array(LIHC.columns[1:])\n",
    "BRCA_patients = np.array(BRCA.columns[1:])\n",
    "STAD_patients = np.array(STAD.columns[1:])"
   ]
  },
  {
   "cell_type": "code",
   "execution_count": 9,
   "metadata": {},
   "outputs": [],
   "source": [
    "def keep_mutual_genes(df, genes):\n",
    "    return df[df['Gene_ID'].isin(genes)]"
   ]
  },
  {
   "cell_type": "code",
   "execution_count": 10,
   "metadata": {},
   "outputs": [],
   "source": [
    "def rename_header(df):\n",
    "    new_header = df.iloc[0] #grab the first row for the header\n",
    "    df = df[1:] #take the data less the header row\n",
    "    df.columns = new_header #set the header row as the df header\n",
    "    return df "
   ]
  },
  {
   "cell_type": "code",
   "execution_count": 11,
   "metadata": {},
   "outputs": [],
   "source": [
    "def reorder_genes(df, genes):\n",
    "    df = df[genes]\n",
    "    return df "
   ]
  },
  {
   "cell_type": "code",
   "execution_count": 12,
   "metadata": {},
   "outputs": [],
   "source": [
    "LIHC = keep_mutual_genes(LIHC, All_genes)\n",
    "BRCA = keep_mutual_genes(BRCA, All_genes)\n",
    "STAD = keep_mutual_genes(STAD, All_genes)\n",
    "LIHC_Normal = keep_mutual_genes(LIHC_Normal, All_genes)\n",
    "BRCA_Normal = keep_mutual_genes(BRCA_Normal, All_genes)\n",
    "STAD_Normal = keep_mutual_genes(STAD_Normal, All_genes)"
   ]
  },
  {
   "cell_type": "code",
   "execution_count": 13,
   "metadata": {},
   "outputs": [],
   "source": [
    "LIHC = LIHC.transpose()\n",
    "BRCA = BRCA.transpose()\n",
    "STAD = STAD.transpose()\n",
    "LIHC_Normal = LIHC_Normal.transpose()\n",
    "BRCA_Normal = BRCA_Normal.transpose()\n",
    "STAD_Normal = STAD_Normal.transpose()"
   ]
  },
  {
   "cell_type": "code",
   "execution_count": 14,
   "metadata": {},
   "outputs": [],
   "source": [
    "LIHC = rename_header(LIHC)\n",
    "BRCA = rename_header(BRCA)\n",
    "STAD = rename_header(STAD)\n",
    "LIHC_Normal = rename_header(LIHC_Normal)\n",
    "BRCA_Normal = rename_header(BRCA_Normal)\n",
    "STAD_Normal = rename_header(STAD_Normal)"
   ]
  },
  {
   "cell_type": "code",
   "execution_count": 15,
   "metadata": {},
   "outputs": [],
   "source": [
    "LIHC = reorder_genes(LIHC, All_genes)\n",
    "BRCA = reorder_genes(BRCA, All_genes)\n",
    "STAD = reorder_genes(STAD, All_genes)\n",
    "LIHC_Normal = reorder_genes(LIHC_Normal, All_genes)\n",
    "BRCA_Normal = reorder_genes(BRCA_Normal, All_genes)\n",
    "STAD_Normal = reorder_genes(STAD_Normal, All_genes)"
   ]
  },
  {
   "cell_type": "code",
   "execution_count": 16,
   "metadata": {},
   "outputs": [],
   "source": [
    "LIHC = LIHC.astype(float)\n",
    "BRCA = BRCA.astype(float)\n",
    "STAD = STAD.astype(float)\n",
    "LIHC_Normal = LIHC_Normal.astype(float)\n",
    "BRCA_Normal = BRCA_Normal.astype(float)\n",
    "STAD_Normal = STAD_Normal.astype(float)"
   ]
  },
  {
   "cell_type": "code",
   "execution_count": 17,
   "metadata": {},
   "outputs": [
    {
     "name": "stderr",
     "output_type": "stream",
     "text": [
      "/usr/local/lib/python3.7/site-packages/ipykernel_launcher.py:1: RuntimeWarning: divide by zero encountered in log10\n",
      "  \"\"\"Entry point for launching an IPython kernel.\n",
      "/usr/local/lib/python3.7/site-packages/ipykernel_launcher.py:2: RuntimeWarning: divide by zero encountered in log10\n",
      "  \n",
      "/usr/local/lib/python3.7/site-packages/ipykernel_launcher.py:3: RuntimeWarning: divide by zero encountered in log10\n",
      "  This is separate from the ipykernel package so we can avoid doing imports until\n",
      "/usr/local/lib/python3.7/site-packages/ipykernel_launcher.py:4: RuntimeWarning: divide by zero encountered in log10\n",
      "  after removing the cwd from sys.path.\n",
      "/usr/local/lib/python3.7/site-packages/ipykernel_launcher.py:5: RuntimeWarning: divide by zero encountered in log10\n",
      "  \"\"\"\n",
      "/usr/local/lib/python3.7/site-packages/ipykernel_launcher.py:6: RuntimeWarning: divide by zero encountered in log10\n",
      "  \n"
     ]
    }
   ],
   "source": [
    "LIHC = np.log10(LIHC)\n",
    "BRCA = np.log10(BRCA)\n",
    "STAD = np.log10(STAD)\n",
    "LIHC_Normal = np.log10(LIHC_Normal)\n",
    "BRCA_Normal = np.log10(BRCA_Normal)\n",
    "STAD_Normal = np.log10(STAD_Normal)"
   ]
  },
  {
   "cell_type": "code",
   "execution_count": 18,
   "metadata": {},
   "outputs": [],
   "source": [
    "LIHC = LIHC.apply(lambda x: np.where(x < 0, 0, x))\n",
    "BRCA = BRCA.apply(lambda x: np.where(x < 0, 0, x))\n",
    "STAD = STAD.apply(lambda x: np.where(x < 0, 0, x))\n",
    "LIHC_Normal = LIHC_Normal.apply(lambda x: np.where(x < 0, 0, x))\n",
    "BRCA_Normal = BRCA_Normal.apply(lambda x: np.where(x < 0, 0, x))\n",
    "STAD_Normal = STAD_Normal.apply(lambda x: np.where(x < 0, 0, x))"
   ]
  },
  {
   "cell_type": "code",
   "execution_count": 19,
   "metadata": {},
   "outputs": [],
   "source": [
    "LIHC.to_csv('data/LIHC.csv') \n",
    "BRCA.to_csv('data/BRCA.csv') \n",
    "STAD.to_csv('data/STAD.csv') \n",
    "LIHC_Normal.to_csv('data/LIHC_Normal.csv') \n",
    "BRCA_Normal.to_csv('data/BRCA_Normal.csv') \n",
    "STAD_Normal.to_csv('data/STAD_Normal.csv') "
   ]
  },
  {
   "cell_type": "code",
   "execution_count": 20,
   "metadata": {},
   "outputs": [],
   "source": [
    "LIHC = pd.read_csv('data/LIHC.csv')\n",
    "BRCA = pd.read_csv('data/BRCA.csv')\n",
    "STAD = pd.read_csv('data/STAD.csv')\n",
    "LIHC_Normal = pd.read_csv('data/LIHC_Normal.csv')\n",
    "BRCA_Normal = pd.read_csv('data/BRCA_Normal.csv')\n",
    "STAD_Normal = pd.read_csv('data/STAD_Normal.csv')"
   ]
  },
  {
   "cell_type": "code",
   "execution_count": 21,
   "metadata": {},
   "outputs": [],
   "source": [
    "# LIHC.head()"
   ]
  },
  {
   "cell_type": "code",
   "execution_count": 22,
   "metadata": {},
   "outputs": [],
   "source": [
    "# BRCA.head()"
   ]
  },
  {
   "cell_type": "code",
   "execution_count": 23,
   "metadata": {},
   "outputs": [],
   "source": [
    "# STAD.head()"
   ]
  },
  {
   "cell_type": "code",
   "execution_count": 24,
   "metadata": {},
   "outputs": [],
   "source": [
    "# LIHC_Normal.head()"
   ]
  },
  {
   "cell_type": "code",
   "execution_count": 25,
   "metadata": {},
   "outputs": [],
   "source": [
    "# BRCA_Normal.head()"
   ]
  },
  {
   "cell_type": "code",
   "execution_count": 26,
   "metadata": {},
   "outputs": [],
   "source": [
    "# STAD_Normal.head()"
   ]
  },
  {
   "cell_type": "code",
   "execution_count": null,
   "metadata": {},
   "outputs": [],
   "source": []
  }
 ],
 "metadata": {
  "kernelspec": {
   "display_name": "Python 3",
   "language": "python",
   "name": "python3"
  },
  "language_info": {
   "codemirror_mode": {
    "name": "ipython",
    "version": 3
   },
   "file_extension": ".py",
   "mimetype": "text/x-python",
   "name": "python",
   "nbconvert_exporter": "python",
   "pygments_lexer": "ipython3",
   "version": "3.7.4"
  }
 },
 "nbformat": 4,
 "nbformat_minor": 2
}
