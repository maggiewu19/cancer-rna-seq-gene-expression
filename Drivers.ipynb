{
 "cells": [
  {
   "cell_type": "markdown",
   "metadata": {},
   "source": [
    "# Data Source:\n",
    "https://www.intogen.org/search?cancer=LUSC&project=LUSC_TCGA#drivers:table:full\n",
    "\n",
    "# Reference Materials\n"
   ]
  },
  {
   "cell_type": "code",
   "execution_count": 7,
   "metadata": {},
   "outputs": [
    {
     "name": "stdout",
     "output_type": "stream",
     "text": [
      "Drivers.ipynb\r\n",
      "README.md\r\n",
      "intogen-LGG-LGG_TCGA-drivers-data.tsv\r\n",
      "intogen-LUSC-LUSC_TCGA-drivers-data.tsv\r\n",
      "intogen-PRAD-drivers-data.tsv\r\n",
      "preprocess.ipynb\r\n",
      "unc.edu_LGG_IlluminaHiSeq_RNASeqV2.geneExp.tsv\r\n"
     ]
    }
   ],
   "source": [
    "ls"
   ]
  },
  {
   "cell_type": "code",
   "execution_count": 8,
   "metadata": {},
   "outputs": [],
   "source": [
    "import pandas as pd"
   ]
  },
  {
   "cell_type": "code",
   "execution_count": 20,
   "metadata": {},
   "outputs": [],
   "source": [
    "def get_drivers(filename):\n",
    "    drivers = pd.read_csv(filename, sep = '\\t')\n",
    "    return  drivers['SYMBOL']\n",
    "    "
   ]
  },
  {
   "cell_type": "code",
   "execution_count": 21,
   "metadata": {},
   "outputs": [],
   "source": [
    "LUCS_drivers =set(get_drivers(\"intogen-LUSC-LUSC_TCGA-drivers-data.tsv\"))"
   ]
  },
  {
   "cell_type": "code",
   "execution_count": 22,
   "metadata": {},
   "outputs": [],
   "source": [
    "LGG_drivers = set(get_drivers(\"intogen-LGG-LGG_TCGA-drivers-data.tsv\"))"
   ]
  },
  {
   "cell_type": "code",
   "execution_count": 23,
   "metadata": {},
   "outputs": [],
   "source": [
    "PRAD_drivers = set(get_drivers(\"intogen-PRAD-drivers-data.tsv\"))"
   ]
  },
  {
   "cell_type": "code",
   "execution_count": 28,
   "metadata": {},
   "outputs": [
    {
     "data": {
      "text/plain": [
       "{'ABL2',\n",
       " 'ACAD8',\n",
       " 'ACO1',\n",
       " 'ACSL6',\n",
       " 'ACTG2',\n",
       " 'ACVR1B',\n",
       " 'ADAM10',\n",
       " 'AFF4',\n",
       " 'AQR',\n",
       " 'ARFGEF2',\n",
       " 'ARHGEF6',\n",
       " 'ARID1A',\n",
       " 'ARID1B',\n",
       " 'ARNTL',\n",
       " 'B2M',\n",
       " 'BLM',\n",
       " 'CASP8',\n",
       " 'CAST',\n",
       " 'CCAR1',\n",
       " 'CDC73',\n",
       " 'CDH1',\n",
       " 'CDKN1A',\n",
       " 'CDKN2A',\n",
       " 'CHD1L',\n",
       " 'CHD3',\n",
       " 'CHEK2',\n",
       " 'CIC',\n",
       " 'CLASP2',\n",
       " 'CLOCK',\n",
       " 'CNOT3',\n",
       " 'CNOT4',\n",
       " 'COPS2',\n",
       " 'CSDA',\n",
       " 'CSDE1',\n",
       " 'CTNNB1',\n",
       " 'CTTN',\n",
       " 'CUL1',\n",
       " 'DDX3X',\n",
       " 'DHX15',\n",
       " 'DHX9',\n",
       " 'DLG1',\n",
       " 'EEF1A1',\n",
       " 'EGFR',\n",
       " 'EIF2C3',\n",
       " 'EIF4A2',\n",
       " 'ELF1',\n",
       " 'ERBB2IP',\n",
       " 'EZH2',\n",
       " 'FGFR2',\n",
       " 'FGFR3',\n",
       " 'FMR1',\n",
       " 'FN1',\n",
       " 'FOXP1',\n",
       " 'FUBP1',\n",
       " 'FXR1',\n",
       " 'G3BP2',\n",
       " 'GATA3',\n",
       " 'GNAI1',\n",
       " 'GOLGA5',\n",
       " 'GPSM2',\n",
       " 'HLA-A',\n",
       " 'HLF',\n",
       " 'HRAS',\n",
       " 'HSP90AA1',\n",
       " 'HSP90AB1',\n",
       " 'HSPA8',\n",
       " 'IDH1',\n",
       " 'IREB2',\n",
       " 'IRS2',\n",
       " 'ITSN1',\n",
       " 'KDM5C',\n",
       " 'KEAP1',\n",
       " 'KRAS',\n",
       " 'MAP2K1',\n",
       " 'MAP3K1',\n",
       " 'MAP3K4',\n",
       " 'MED17',\n",
       " 'MED24',\n",
       " 'MEN1',\n",
       " 'MET',\n",
       " 'MKL1',\n",
       " 'MLH1',\n",
       " 'MLL',\n",
       " 'MLL2',\n",
       " 'MUC20',\n",
       " 'MYB',\n",
       " 'NCF2',\n",
       " 'NCK1',\n",
       " 'NDRG1',\n",
       " 'NF1',\n",
       " 'NFATC4',\n",
       " 'NFE2L2',\n",
       " 'NOTCH1',\n",
       " 'NR4A2',\n",
       " 'NTN4',\n",
       " 'NUP107',\n",
       " 'NUP98',\n",
       " 'PAX5',\n",
       " 'PCDH18',\n",
       " 'PCSK6',\n",
       " 'PHF6',\n",
       " 'PIK3CA',\n",
       " 'PIK3CB',\n",
       " 'PIK3R3',\n",
       " 'PIP5K1A',\n",
       " 'PPP2R5C',\n",
       " 'PRPF8',\n",
       " 'PTEN',\n",
       " 'PTPN11',\n",
       " 'RAD21',\n",
       " 'RASA1',\n",
       " 'RB1',\n",
       " 'RBM10',\n",
       " 'RGS3',\n",
       " 'RPL5',\n",
       " 'RTN4',\n",
       " 'SEC24D',\n",
       " 'SETD2',\n",
       " 'SETDB1',\n",
       " 'SF3A3',\n",
       " 'SF3B1',\n",
       " 'SIN3A',\n",
       " 'SMAD2',\n",
       " 'SMAD4',\n",
       " 'SPTAN1',\n",
       " 'SRGAP3',\n",
       " 'STAG1',\n",
       " 'STK11',\n",
       " 'STK4',\n",
       " 'SUZ12',\n",
       " 'SYNCRIP',\n",
       " 'TAOK2',\n",
       " 'TBL1XR1',\n",
       " 'TBX3',\n",
       " 'TFDP1',\n",
       " 'TFDP2',\n",
       " 'TGFBR2',\n",
       " 'THRAP3',\n",
       " 'TJP2',\n",
       " 'TNPO1',\n",
       " 'TOM1',\n",
       " 'TP53',\n",
       " 'UPF3B',\n",
       " 'WIPF1',\n",
       " 'WT1',\n",
       " 'ZC3H11A',\n",
       " 'ZFP36L2'}"
      ]
     },
     "execution_count": 28,
     "metadata": {},
     "output_type": "execute_result"
    }
   ],
   "source": [
    "LUCS_drivers"
   ]
  },
  {
   "cell_type": "code",
   "execution_count": 29,
   "metadata": {},
   "outputs": [
    {
     "data": {
      "text/plain": [
       "{'ACO1',\n",
       " 'ARFGEF2',\n",
       " 'ARHGAP26',\n",
       " 'ARHGEF6',\n",
       " 'ARID1A',\n",
       " 'ARID1B',\n",
       " 'ARID2',\n",
       " 'ATRX',\n",
       " 'CAD',\n",
       " 'CDK12',\n",
       " 'CHEK2',\n",
       " 'CIC',\n",
       " 'DDX3X',\n",
       " 'EEF1B2',\n",
       " 'EGFR',\n",
       " 'EIF1AX',\n",
       " 'FAM123B',\n",
       " 'FAT1',\n",
       " 'FUBP1',\n",
       " 'HGF',\n",
       " 'IDH1',\n",
       " 'IDH2',\n",
       " 'KAT6B',\n",
       " 'MAX',\n",
       " 'MECOM',\n",
       " 'MET',\n",
       " 'MLL',\n",
       " 'MLL2',\n",
       " 'MTOR',\n",
       " 'NCOR1',\n",
       " 'NEDD4L',\n",
       " 'NF1',\n",
       " 'NF2',\n",
       " 'NOTCH1',\n",
       " 'PIK3CA',\n",
       " 'PIK3R1',\n",
       " 'PTEN',\n",
       " 'PTPN11',\n",
       " 'RASA1',\n",
       " 'RB1',\n",
       " 'SETD2',\n",
       " 'SMARCA4',\n",
       " 'TAF1',\n",
       " 'TCF12',\n",
       " 'TJP1',\n",
       " 'TP53',\n",
       " 'TRIO',\n",
       " 'ZMYM2',\n",
       " 'ZNF292',\n",
       " 'ZNF814'}"
      ]
     },
     "execution_count": 29,
     "metadata": {},
     "output_type": "execute_result"
    }
   ],
   "source": [
    "LGG_drivers"
   ]
  },
  {
   "cell_type": "code",
   "execution_count": 30,
   "metadata": {},
   "outputs": [
    {
     "data": {
      "text/plain": [
       "{'ADCY1',\n",
       " 'AHNAK',\n",
       " 'AKAP9',\n",
       " 'APC',\n",
       " 'AQR',\n",
       " 'ARFGAP3',\n",
       " 'ARID1B',\n",
       " 'ATIC',\n",
       " 'ATM',\n",
       " 'ATRX',\n",
       " 'BCLAF1',\n",
       " 'BCOR',\n",
       " 'BNC2',\n",
       " 'BPTF',\n",
       " 'BRAF',\n",
       " 'CASP1',\n",
       " 'CAT',\n",
       " 'CDC27',\n",
       " 'CDH1',\n",
       " 'CDKN1B',\n",
       " 'CEP290',\n",
       " 'CHD1L',\n",
       " 'CHD3',\n",
       " 'CHD4',\n",
       " 'CHEK2',\n",
       " 'CNOT1',\n",
       " 'CNOT3',\n",
       " 'CNTNAP1',\n",
       " 'CTNNB1',\n",
       " 'CUL2',\n",
       " 'CUL3',\n",
       " 'EEF1B2',\n",
       " 'EGFR',\n",
       " 'EIF2AK3',\n",
       " 'EIF4G1',\n",
       " 'EP300',\n",
       " 'ERCC2',\n",
       " 'FAT1',\n",
       " 'FGFR2',\n",
       " 'FIP1L1',\n",
       " 'FN1',\n",
       " 'FRG1',\n",
       " 'G3BP2',\n",
       " 'GNAS',\n",
       " 'HGF',\n",
       " 'HNF1A',\n",
       " 'HRAS',\n",
       " 'HSP90AB1',\n",
       " 'HSPA8',\n",
       " 'IDH1',\n",
       " 'IRS2',\n",
       " 'KDM6A',\n",
       " 'KEAP1',\n",
       " 'MECOM',\n",
       " 'MED12',\n",
       " 'MLL2',\n",
       " 'MYH10',\n",
       " 'NAP1L1',\n",
       " 'NKX3-1',\n",
       " 'NOTCH1',\n",
       " 'NOTCH2',\n",
       " 'NUP98',\n",
       " 'PCDH18',\n",
       " 'PIK3CB',\n",
       " 'PLXNA1',\n",
       " 'PRPF8',\n",
       " 'PTEN',\n",
       " 'RPSAP58',\n",
       " 'SCAI',\n",
       " 'SETDB1',\n",
       " 'SMAD4',\n",
       " 'SMARCA1',\n",
       " 'SMARCB1',\n",
       " 'SPOP',\n",
       " 'SVEP1',\n",
       " 'TAOK2',\n",
       " 'TBL1XR1',\n",
       " 'TBX3',\n",
       " 'THRAP3',\n",
       " 'TJP1',\n",
       " 'TJP2',\n",
       " 'TP53',\n",
       " 'TP53BP1',\n",
       " 'TRIO',\n",
       " 'WHSC1L1',\n",
       " 'WNT5A',\n",
       " 'ZFHX3',\n",
       " 'ZNF814'}"
      ]
     },
     "execution_count": 30,
     "metadata": {},
     "output_type": "execute_result"
    }
   ],
   "source": [
    "PRAD_drivers"
   ]
  },
  {
   "cell_type": "code",
   "execution_count": 31,
   "metadata": {},
   "outputs": [],
   "source": [
    "LGG = pd.read_csv(\"unc.edu_LGG_IlluminaHiSeq_RNASeqV2.geneExp.tsv\", sep='\\t')\n",
    "gene_names = set([gene_id[:gene_id.index('|')] for gene_id in LGG['gene_id']])"
   ]
  },
  {
   "cell_type": "code",
   "execution_count": 39,
   "metadata": {},
   "outputs": [
    {
     "name": "stdout",
     "output_type": "stream",
     "text": [
      "49 50\n"
     ]
    }
   ],
   "source": [
    "have_driver_LGG = LGG_drivers.intersection(gene_names)\n",
    "print(len(have_driver_LGG), len(LGG_drivers))"
   ]
  },
  {
   "cell_type": "code",
   "execution_count": 40,
   "metadata": {},
   "outputs": [
    {
     "name": "stdout",
     "output_type": "stream",
     "text": [
      "147 147\n"
     ]
    }
   ],
   "source": [
    "have_driver_LUCS = LUCS_drivers.intersection(gene_names)\n",
    "print(len(have_driver_LUCS), len(LUCS_drivers))"
   ]
  },
  {
   "cell_type": "code",
   "execution_count": 42,
   "metadata": {},
   "outputs": [
    {
     "name": "stdout",
     "output_type": "stream",
     "text": [
      "88 88\n"
     ]
    }
   ],
   "source": [
    "have_driver_PRAD = PRAD_drivers.intersection(gene_names)\n",
    "print(len(have_driver_PRAD), len(PRAD_drivers))"
   ]
  },
  {
   "cell_type": "code",
   "execution_count": 46,
   "metadata": {},
   "outputs": [
    {
     "data": {
      "text/plain": [
       "{'ARID1B', 'CHEK2', 'EGFR', 'IDH1', 'MLL2', 'NOTCH1', 'PTEN', 'TP53'}"
      ]
     },
     "execution_count": 46,
     "metadata": {},
     "output_type": "execute_result"
    }
   ],
   "source": [
    "common_all = have_driver_LGG.intersection(have_driver_LUCS).intersection(have_driver_PRAD)\n",
    "common_all"
   ]
  },
  {
   "cell_type": "code",
   "execution_count": 50,
   "metadata": {},
   "outputs": [
    {
     "data": {
      "text/plain": [
       "23"
      ]
     },
     "execution_count": 50,
     "metadata": {},
     "output_type": "execute_result"
    }
   ],
   "source": [
    "common_lung = have_driver_LGG.intersection(have_driver_LUCS)\n",
    "len(common_lung)"
   ]
  },
  {
   "cell_type": "code",
   "execution_count": null,
   "metadata": {},
   "outputs": [],
   "source": []
  }
 ],
 "metadata": {
  "kernelspec": {
   "display_name": "Python 3",
   "language": "python",
   "name": "python3"
  },
  "language_info": {
   "codemirror_mode": {
    "name": "ipython",
    "version": 3
   },
   "file_extension": ".py",
   "mimetype": "text/x-python",
   "name": "python",
   "nbconvert_exporter": "python",
   "pygments_lexer": "ipython3",
   "version": "3.7.3"
  }
 },
 "nbformat": 4,
 "nbformat_minor": 2
}
