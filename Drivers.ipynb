{
 "cells": [
  {
   "cell_type": "markdown",
   "metadata": {},
   "source": [
    "# Data Source:\n",
    "https://www.intogen.org/search?cancer=LUSC&project=LUSC_TCGA#drivers:table:full\n",
    "\n",
    "# Reference Materials\n"
   ]
  },
  {
   "cell_type": "code",
   "execution_count": 35,
   "metadata": {},
   "outputs": [
    {
     "name": "stdout",
     "output_type": "stream",
     "text": [
      "Drivers.ipynb\r\n",
      "README.md\r\n",
      "intogen-LGG-LGG_TCGA-drivers-data.tsv\r\n",
      "intogen-LUSC-LUSC_TCGA-drivers-data.tsv\r\n",
      "intogen-PRAD-drivers-data.tsv\r\n",
      "preprocess.ipynb\r\n",
      "unc.edu_LGG_IlluminaHiSeq_RNASeqV2.geneExp.tsv\r\n"
     ]
    }
   ],
   "source": [
    "ls"
   ]
  },
  {
   "cell_type": "code",
   "execution_count": 2,
   "metadata": {},
   "outputs": [],
   "source": [
    "import pandas as pd"
   ]
  },
  {
   "cell_type": "code",
   "execution_count": 50,
   "metadata": {},
   "outputs": [],
   "source": [
    "def get_drivers(filename):\n",
    "    drivers = pd.read_csv(filename, sep = '\\t')\n",
    "    return drivers['SYMBOL'], drivers\n",
    "    "
   ]
  },
  {
   "cell_type": "code",
   "execution_count": 37,
   "metadata": {},
   "outputs": [],
   "source": [
    "LUCS_drivers =set(get_drivers(\"intogen-LUSC-LUSC_TCGA-drivers-data.tsv\"))"
   ]
  },
  {
   "cell_type": "code",
   "execution_count": 41,
   "metadata": {},
   "outputs": [],
   "source": [
    "LGG_drivers = set(get_drivers(\"intogen-LGG-LGG_TCGA-drivers-data.tsv\"))"
   ]
  },
  {
   "cell_type": "code",
   "execution_count": 42,
   "metadata": {},
   "outputs": [],
   "source": [
    "PRAD_drivers = set(get_drivers(\"intogen-PRAD-drivers-data.tsv\"))\n"
   ]
  },
  {
   "cell_type": "code",
   "execution_count": 48,
   "metadata": {},
   "outputs": [
    {
     "name": "stdout",
     "output_type": "stream",
     "text": [
      "{'TP53', 'CHEK2', 'ARHGEF6', 'PTPN11', 'IDH1', 'CIC', 'PIK3CA', 'ACO1', 'RB1', 'ARFGEF2', 'NOTCH1', 'ARID1A', 'SETD2', 'MLL', 'RASA1', 'MET', 'EGFR', 'PTEN', 'NF1', 'DDX3X', 'FUBP1', 'ARID1B', 'MLL2'}\n"
     ]
    }
   ],
   "source": [
    "print(LUCS_drivers.intersection(LGG_drivers))"
   ]
  },
  {
   "cell_type": "code",
   "execution_count": 56,
   "metadata": {},
   "outputs": [
    {
     "data": {
      "text/plain": [
       "{'ACO1',\n",
       " 'ARFGEF2',\n",
       " 'ARHGAP26',\n",
       " 'ARHGEF6',\n",
       " 'ARID1A',\n",
       " 'ARID1B',\n",
       " 'ARID2',\n",
       " 'ATRX',\n",
       " 'CAD',\n",
       " 'CDK12',\n",
       " 'CHEK2',\n",
       " 'CIC',\n",
       " 'DDX3X',\n",
       " 'EEF1B2',\n",
       " 'EGFR',\n",
       " 'EIF1AX',\n",
       " 'FAM123B',\n",
       " 'FAT1',\n",
       " 'FUBP1',\n",
       " 'HGF',\n",
       " 'IDH1',\n",
       " 'IDH2',\n",
       " 'KAT6B',\n",
       " 'MAX',\n",
       " 'MECOM',\n",
       " 'MET',\n",
       " 'MLL',\n",
       " 'MLL2',\n",
       " 'MTOR',\n",
       " 'NCOR1',\n",
       " 'NEDD4L',\n",
       " 'NF1',\n",
       " 'NF2',\n",
       " 'NOTCH1',\n",
       " 'PIK3CA',\n",
       " 'PIK3R1',\n",
       " 'PTEN',\n",
       " 'PTPN11',\n",
       " 'RASA1',\n",
       " 'RB1',\n",
       " 'SETD2',\n",
       " 'SMARCA4',\n",
       " 'TAF1',\n",
       " 'TCF12',\n",
       " 'TJP1',\n",
       " 'TP53',\n",
       " 'TRIO',\n",
       " 'ZMYM2',\n",
       " 'ZNF292',\n",
       " 'ZNF814'}"
      ]
     },
     "execution_count": 56,
     "metadata": {},
     "output_type": "execute_result"
    }
   ],
   "source": [
    "LGG_drivers"
   ]
  },
  {
   "cell_type": "code",
   "execution_count": 47,
   "metadata": {},
   "outputs": [
    {
     "data": {
      "text/plain": [
       "50"
      ]
     },
     "execution_count": 47,
     "metadata": {},
     "output_type": "execute_result"
    }
   ],
   "source": [
    "len(LGG_drivers)"
   ]
  },
  {
   "cell_type": "code",
   "execution_count": 52,
   "metadata": {},
   "outputs": [],
   "source": [
    "LUCS_drivers,df =get_drivers(\"intogen-LUSC-LUSC_TCGA-drivers-data.tsv\")"
   ]
  },
  {
   "cell_type": "code",
   "execution_count": 53,
   "metadata": {},
   "outputs": [
    {
     "data": {
      "text/plain": [
       "Index(['ONCODRIVE_ROLE', 'PVALUE_ONCODRIVEFM', 'SIGNALS', 'QVALUE_ONCODRIVEFM',\n",
       "       'MUTS_PAM_SAMPLES', 'POOL_SIGNALS', 'GENE', 'MUTS_CS', 'SIGNAL_COUNT',\n",
       "       'DRIVER_LABEL', 'PVALUE_ONCODRIVECLUST', 'QVALUE_ONCODRIVECLUST',\n",
       "       'CLUST_COORDS', 'KNOWN_DRIVER', 'ZSCORE_ONCODRIVECLUST', 'PROJECT',\n",
       "       'MUTS_PAM', 'SYMBOL', 'CANCER_TYPE', 'MUTS_CS_SAMPLES'],\n",
       "      dtype='object')"
      ]
     },
     "execution_count": 53,
     "metadata": {},
     "output_type": "execute_result"
    }
   ],
   "source": [
    "df.columns"
   ]
  },
  {
   "cell_type": "code",
   "execution_count": 54,
   "metadata": {},
   "outputs": [
    {
     "data": {
      "text/plain": [
       "0      ENSG00000141510\n",
       "1      ENSG00000167548\n",
       "2      ENSG00000121879\n",
       "3      ENSG00000116044\n",
       "4      ENSG00000147889\n",
       "5      ENSG00000079999\n",
       "6      ENSG00000196712\n",
       "7      ENSG00000115414\n",
       "8      ENSG00000148400\n",
       "9      ENSG00000171862\n",
       "10     ENSG00000117713\n",
       "11     ENSG00000139687\n",
       "12     ENSG00000080802\n",
       "13     ENSG00000145715\n",
       "14     ENSG00000163017\n",
       "15     ENSG00000174231\n",
       "16     ENSG00000112851\n",
       "17     ENSG00000138835\n",
       "18     ENSG00000135829\n",
       "19     ENSG00000143322\n",
       "20     ENSG00000118513\n",
       "21     ENSG00000085733\n",
       "22     ENSG00000135111\n",
       "23     ENSG00000118058\n",
       "24     ENSG00000149930\n",
       "25     ENSG00000049618\n",
       "26     ENSG00000134371\n",
       "27     ENSG00000184937\n",
       "28     ENSG00000118007\n",
       "29     ENSG00000106462\n",
       "            ...       \n",
       "117    ENSG00000169032\n",
       "118    ENSG00000158092\n",
       "119    ENSG00000150961\n",
       "120    ENSG00000064012\n",
       "121    ENSG00000121957\n",
       "122    ENSG00000175387\n",
       "123    ENSG00000122406\n",
       "124    ENSG00000138413\n",
       "125    ENSG00000101109\n",
       "126    ENSG00000111581\n",
       "127    ENSG00000215301\n",
       "128    ENSG00000185950\n",
       "129    ENSG00000066455\n",
       "130    ENSG00000074527\n",
       "131    ENSG00000124762\n",
       "132    ENSG00000182872\n",
       "133    ENSG00000122729\n",
       "134    ENSG00000117461\n",
       "135    ENSG00000054118\n",
       "136    ENSG00000197299\n",
       "137    ENSG00000083312\n",
       "138    ENSG00000183431\n",
       "139    ENSG00000164398\n",
       "140    ENSG00000119139\n",
       "141    ENSG00000156531\n",
       "142    ENSG00000135503\n",
       "143    ENSG00000156508\n",
       "144    ENSG00000133703\n",
       "145    ENSG00000151498\n",
       "146    ENSG00000133794\n",
       "Name: GENE, Length: 147, dtype: object"
      ]
     },
     "execution_count": 54,
     "metadata": {},
     "output_type": "execute_result"
    }
   ],
   "source": [
    "df['GENE']"
   ]
  },
  {
   "cell_type": "code",
   "execution_count": null,
   "metadata": {},
   "outputs": [],
   "source": []
  }
 ],
 "metadata": {
  "kernelspec": {
   "display_name": "Python 3",
   "language": "python",
   "name": "python3"
  },
  "language_info": {
   "codemirror_mode": {
    "name": "ipython",
    "version": 3
   },
   "file_extension": ".py",
   "mimetype": "text/x-python",
   "name": "python",
   "nbconvert_exporter": "python",
   "pygments_lexer": "ipython3",
   "version": "3.7.3"
  }
 },
 "nbformat": 4,
 "nbformat_minor": 2
}
