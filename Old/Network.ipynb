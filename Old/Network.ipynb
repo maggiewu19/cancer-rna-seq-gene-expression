{
 "cells": [
  {
   "cell_type": "code",
   "execution_count": 1,
   "metadata": {},
   "outputs": [],
   "source": [
    "import pandas as pd \n",
    "import numpy as np\n",
    "from scipy.stats import pearsonr\n",
    "import networkx as nx\n",
    "import matplotlib.pyplot as plt\n",
    "import pickle\n",
    "import os\n",
    "from multiprocessing import Pool\n",
    "#import deepgraph as dg"
   ]
  },
  {
   "cell_type": "code",
   "execution_count": 2,
   "metadata": {},
   "outputs": [],
   "source": [
    "LGG = pd.read_csv(\"unc.edu_LGG_IlluminaHiSeq_RNASeqV2.geneExp.tsv\", sep='\\t')\n",
    "LUCS = pd.read_csv(\"unc.edu_LUSC_IlluminaHiSeq_RNASeqV2.geneExp.tsv\", sep='\\t')\n",
    "PRAD = pd.read_csv(\"unc.edu_PRAD_IlluminaHiSeq_RNASeqV2.geneExp.tsv\", sep = '\\t')"
   ]
  },
  {
   "cell_type": "code",
   "execution_count": 3,
   "metadata": {},
   "outputs": [],
   "source": [
    "def get_drivers(filename):\n",
    "    drivers = pd.read_csv(filename, sep = '\\t')\n",
    "    return  drivers['SYMBOL']"
   ]
  },
  {
   "cell_type": "code",
   "execution_count": 4,
   "metadata": {},
   "outputs": [],
   "source": [
    "LUCS_drivers =set(get_drivers(\"intogen-LUSC-LUSC_TCGA-drivers-data.tsv\"))\n",
    "LGG_drivers = set(get_drivers(\"intogen-LGG-LGG_TCGA-drivers-data.tsv\"))\n",
    "PRAD_drivers = set(get_drivers(\"intogen-PRAD-drivers-data.tsv\"))"
   ]
  },
  {
   "cell_type": "code",
   "execution_count": 5,
   "metadata": {},
   "outputs": [],
   "source": [
    "def locate_drivers(gene_ids, drivers):\n",
    "    locs = []\n",
    "    for i, gene_id in gene_ids.iteritems():\n",
    "        gene_name = gene_id[:gene_id.index('|')]\n",
    "        if gene_name in drivers:\n",
    "            locs.append(i)\n",
    "    return locs"
   ]
  },
  {
   "cell_type": "code",
   "execution_count": 6,
   "metadata": {},
   "outputs": [],
   "source": [
    "lgg_driver_locs = locate_drivers(LGG[\"gene_id\"], LGG_drivers)\n",
    "lucs_driver_locs = locate_drivers(LUCS[\"gene_id\"], LUCS_drivers)\n",
    "prad_driver_locs = locate_drivers(PRAD[\"gene_id\"], PRAD_drivers)"
   ]
  },
  {
   "cell_type": "code",
   "execution_count": 7,
   "metadata": {},
   "outputs": [],
   "source": [
    "def write_to_file(filename, data):\n",
    "    outfile = open(filename, 'wb')\n",
    "    pickle.dump(data, outfile)\n",
    "    outfile.close()\n",
    "\n",
    "\n",
    "def load_pkl(filename):\n",
    "    file = open(filename, 'rb')\n",
    "    object_file = pickle.load(file)\n",
    "    file.close()\n",
    "    return object_file"
   ]
  },
  {
   "cell_type": "code",
   "execution_count": 8,
   "metadata": {},
   "outputs": [],
   "source": [
    "lgg_driver_pmatrix = load_pkl(\"lgg_driver_pearson_matrix.p\")"
   ]
  },
  {
   "cell_type": "code",
   "execution_count": 9,
   "metadata": {},
   "outputs": [
    {
     "name": "stdout",
     "output_type": "stream",
     "text": [
      "991025 1006019\n"
     ]
    },
    {
     "data": {
      "image/png": "[encoded data removed]",
      "text/plain": [
       "<Figure size 432x288 with 1 Axes>"
      ]
     },
     "metadata": {
      "needs_background": "light"
     },
     "output_type": "display_data"
    }
   ],
   "source": [
    "# distribution of correlation values\n",
    "p_value_drivers = []\n",
    "for driver in lgg_driver_locs:\n",
    "    ps = lgg_driver_pmatrix[driver][:]\n",
    "    for i in range(len(ps)):\n",
    "        if i != driver and not np.isnan(ps[i]):\n",
    "            p_value_drivers.append(ps[i])\n",
    "    #p_value_drivers.extend(lgg_driver_pmatrix[driver][:])\n",
    "print (len(p_value_drivers), LGG.shape[0]*len(lgg_driver_locs))\n",
    "plt.hist(p_value_drivers, bins=30)\n",
    "plt.ylabel(\"Count\")\n",
    "plt.xlabel(\"pearson r value\")\n",
    "plt.title(\"Distribution of pearson r values for driver genes with other genes\")\n",
    "plt.savefig(\"dist.png\")\n",
    "plt.show()"
   ]
  },
  {
   "cell_type": "code",
   "execution_count": 11,
   "metadata": {},
   "outputs": [],
   "source": [
    "# Build a graph with driver genes with rest of genes, edges are created when p values are above threshold\n",
    "# actual name=True then node name will be actual gene id\n",
    "# actual name=False, node name is row index\n",
    "def build_graph_drivers_threshold(data, adj_matrix, drivers, threshold, actual_name):\n",
    "    # undirected, weighted graph\n",
    "    G = nx.Graph()\n",
    "    for i in range(len(adj_matrix)):\n",
    "        if actual_name:\n",
    "            G.add_node(data[\"gene_id\"].iloc[i])\n",
    "        else:\n",
    "            G.add_node(i)\n",
    "        \n",
    "    for i in drivers:\n",
    "        for j in range(len(adj_matrix)):\n",
    "            if i != j:\n",
    "                if not np.isnan(adj_matrix[i][j]) and abs(adj_matrix[i][j]) > threshold: \n",
    "                    if actual_name:\n",
    "                        G.add_edge(data[\"gene_id\"].iloc[i], data[\"gene_id\"].iloc[j], weight=adj_matrix[i][j])\n",
    "                    else:\n",
    "                        G.add_edge(i, j, weigt=adj_matrix[i][j])\n",
    "    return G"
   ]
  },
  {
   "cell_type": "code",
   "execution_count": 12,
   "metadata": {},
   "outputs": [],
   "source": [
    "G_driver_threshold = build_graph_drivers_threshold(LGG, lgg_driver_pmatrix, lgg_driver_locs, 0.7, False)"
   ]
  },
  {
   "cell_type": "code",
   "execution_count": 13,
   "metadata": {},
   "outputs": [
    {
     "name": "stdout",
     "output_type": "stream",
     "text": [
      "Number of nodes:  True\n",
      "Number of selfloop:  0\n",
      "nodes number: 20531, edges number: 1910\n",
      "Number of connected components:  19207\n"
     ]
    }
   ],
   "source": [
    "print (\"Number of nodes: \", nx.number_of_nodes(G_driver_threshold) == len(lgg_driver_pmatrix))\n",
    "print (\"Number of selfloop: \", nx.number_of_selfloops(G_driver_threshold))\n",
    "print (\"nodes number: {}, edges number: {}\".format(nx.number_of_nodes(G_driver_threshold), nx.number_of_edges(G_driver_threshold)))\n",
    "print (\"Number of connected components: \", nx.number_connected_components(G_driver_threshold))"
   ]
  },
  {
   "cell_type": "code",
   "execution_count": 14,
   "metadata": {},
   "outputs": [
    {
     "name": "stdout",
     "output_type": "stream",
     "text": [
      "1357\n"
     ]
    }
   ],
   "source": [
    "# remove isolated nodes that are not connected to driver gene\n",
    "required_genes = []\n",
    "for g in nx.connected_component_subgraphs(G_driver_threshold):\n",
    "    if len(g.nodes) >= 1:\n",
    "        genes = list(g.nodes)\n",
    "        for gene in genes:\n",
    "            if gene in lgg_driver_locs:\n",
    "                required_genes.extend(genes)\n",
    "                #print (\"Yes\", len(g.nodes))\n",
    "                #print (genes)\n",
    "                break\n",
    "print (len(required_genes))"
   ]
  },
  {
   "cell_type": "code",
   "execution_count": 15,
   "metadata": {},
   "outputs": [],
   "source": [
    "# recompute pearson matrix disregarding isolated nodes\n",
    "# calculate pearson for driver gene with other genes\n",
    "# Pearson Correlation\n",
    "def calculate_pearson_required(required, data):\n",
    "    '''\n",
    "    Input: driver gene location in data and data\n",
    "    Output: Person matrix\n",
    "    '''\n",
    "    n = len(required)\n",
    "    pmatrix = np.empty((n, n))\n",
    "    mappings = {}\n",
    "    print (pmatrix.shape)\n",
    "    \n",
    "    for i in range(len(required)):\n",
    "        data_i = required[i]\n",
    "        mappings[i] = data_i\n",
    "        gene1 = np.array(data.iloc[data_i, :].values)[1:]\n",
    "        for j in range(len(required)):\n",
    "            data_j = required[j]\n",
    "            gene2 = np.array(data.iloc[data_j, :].values)[1:]\n",
    "            # note: if either one of gene is all zeros, r and p are nan\n",
    "            r, p= pearsonr(gene1, gene2)\n",
    "            pmatrix[i][j] = r\n",
    "        if i % 100 == 0:\n",
    "            print (i)\n",
    "    return pmatrix, mappings"
   ]
  },
  {
   "cell_type": "code",
   "execution_count": 16,
   "metadata": {},
   "outputs": [
    {
     "name": "stdout",
     "output_type": "stream",
     "text": [
      "(1357, 1357)\n",
      "0\n",
      "100\n",
      "200\n",
      "300\n",
      "400\n",
      "500\n",
      "600\n",
      "700\n",
      "800\n",
      "900\n",
      "1000\n",
      "1100\n",
      "1200\n",
      "1300\n"
     ]
    }
   ],
   "source": [
    "# pmatrix_required, mappings = calculate_pearson_required(required_genes, LGG)"
   ]
  },
  {
   "cell_type": "code",
   "execution_count": 26,
   "metadata": {},
   "outputs": [],
   "source": [
    "# write_to_file(\"pmatrix_required.p\", pmatrix_required)\n",
    "# write_to_file(\"mappings.p\", mappings)"
   ]
  },
  {
   "cell_type": "code",
   "execution_count": 27,
   "metadata": {},
   "outputs": [],
   "source": [
    "pmatrix_required = load_pkl(\"pmatrix_required.p\")\n",
    "mappings = load_pkl(\"mappings.p\")"
   ]
  },
  {
   "cell_type": "code",
   "execution_count": 28,
   "metadata": {},
   "outputs": [
    {
     "data": {
      "text/plain": [
       "(1357, 1357)"
      ]
     },
     "execution_count": 28,
     "metadata": {},
     "output_type": "execute_result"
    }
   ],
   "source": [
    "pmatrix_require.shape"
   ]
  },
  {
   "cell_type": "code",
   "execution_count": 29,
   "metadata": {},
   "outputs": [],
   "source": [
    "# rebuild the graph with genes from mappings\n",
    "# the graph is now fully connected\n",
    "def build_graph_required(data, adj_matrix, mappings, actual_name):\n",
    "    # undirected, weighted graph\n",
    "    G = nx.Graph()\n",
    "    for i in range(len(adj_matrix)):\n",
    "        if actual_name:\n",
    "            G.add_node(data[\"gene_id\"].iloc[mappings[i]])\n",
    "        else:\n",
    "            G.add_node(mappings[i])\n",
    "        for j in range(i+1, len(adj_matrix)):\n",
    "            if not np.isnan(adj_matrix[i][j]) and adj_matrix[i][j] != 0: \n",
    "                if actual_name:\n",
    "                    G.add_edge(data[\"gene_id\"].iloc[mappings[i]], data[\"gene_id\"].iloc[mappings[j]], weight=adj_matrix[i][j])\n",
    "                else:\n",
    "                    G.add_edge(mappings[i], mappings[j], weigt=adj_matrix[i][j])\n",
    "    return G"
   ]
  },
  {
   "cell_type": "code",
   "execution_count": 30,
   "metadata": {},
   "outputs": [],
   "source": [
    "graph_required = build_graph_required(LGG, pmatrix_required, mappings, False)"
   ]
  },
  {
   "cell_type": "code",
   "execution_count": 22,
   "metadata": {},
   "outputs": [
    {
     "name": "stdout",
     "output_type": "stream",
     "text": [
      "Number of selfloop:  0\n",
      "nodes number: 1357, edges number: 920046\n",
      "Number of connected components:  1\n"
     ]
    }
   ],
   "source": [
    "print (\"Number of selfloop: \", nx.number_of_selfloops(graph_required))\n",
    "print (\"nodes number: {}, edges number: {}\".format(nx.number_of_nodes(graph_required), nx.number_of_edges(graph_required)))\n",
    "print (\"Number of connected components: \", nx.number_connected_components(graph_required))"
   ]
  },
  {
   "cell_type": "code",
   "execution_count": 23,
   "metadata": {},
   "outputs": [],
   "source": [
    "# centrality\n",
    "def centrality(G):\n",
    "    betweenness = nx.betweenness_centrality(G, normalized=True, weight=\"weight\")\n",
    "    eigenvec = nx.eigenvector_centrality_numpy(G, weight=\"weight\")\n",
    "    degree = nx.degree_centrality(G)\n",
    "    closeness = nx.closeness_centrality(G)\n",
    "    return degree, betweenness, closeness, eigenvec"
   ]
  },
  {
   "cell_type": "code",
   "execution_count": 24,
   "metadata": {},
   "outputs": [],
   "source": [
    "# Other centralities don't not work since edge weight is negative, and there is cycle in graph\n",
    "# degree centrality is all 1s cuz fully connected\n",
    "# degree, betweenness, closeness, eigenvec = centrality(graph_required)"
   ]
  },
  {
   "cell_type": "code",
   "execution_count": 25,
   "metadata": {},
   "outputs": [],
   "source": [
    "# build a dataframe for genes and their centrality values\n",
    "def build_dataframe_required(data, inputs, mappings, actual_name):\n",
    "    #inputs is dictionaries within dictionaries\n",
    "    # outer dict: key= centrality type, value: dictionary of computed values for all genes\n",
    "    # inner dict: key= gene id (index or actual name), value: centrality value for the gene id\n",
    "    gene_ids = []\n",
    "    for key in mappings.keys():\n",
    "        data_index = mappings[key]\n",
    "        gene_id = data[\"gene_id\"].iloc[data_index]\n",
    "        gene_ids.append(gene_id)\n",
    "    centrality_df = pd.DataFrame({\"gene id\": gene_ids})\n",
    "        \n",
    "    for centrality in inputs.keys():\n",
    "        values = []\n",
    "        for i in mappings.keys():\n",
    "            data_index = mappings[i]\n",
    "            if actual_name:\n",
    "                values.append(inputs[centrality][data[\"gene_id\"].iloc[data_index]])\n",
    "            else:\n",
    "                values.append(inputs[centrality][data_index])\n",
    "        centrality_df[centrality] = pd.DataFrame(values)\n",
    "    return centrality_df"
   ]
  },
  {
   "cell_type": "code",
   "execution_count": null,
   "metadata": {},
   "outputs": [],
   "source": [
    "# inputs = {\"degree\": degree, \"betweenness\": betweenness, \"closeness\": closeness, \"eigenvector\": eigenvec}\n",
    "# centrality_df = build_dataframe_required(LGG, inputs, mappings, False)\n",
    "# centrality_df.shape"
   ]
  }
 ],
 "metadata": {
  "kernelspec": {
   "display_name": "Python 3",
   "language": "python",
   "name": "python3"
  },
  "language_info": {
   "codemirror_mode": {
    "name": "ipython",
    "version": 3
   },
   "file_extension": ".py",
   "mimetype": "text/x-python",
   "name": "python",
   "nbconvert_exporter": "python",
   "pygments_lexer": "ipython3",
   "version": "3.7.4"
  }
 },
 "nbformat": 4,
 "nbformat_minor": 2
}
